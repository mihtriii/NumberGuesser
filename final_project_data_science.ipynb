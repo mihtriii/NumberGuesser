{
 "cells": [
  {
   "cell_type": "markdown",
   "id": "6342b41f",
   "metadata": {},
   "source": [
    "# Final Project: Data Science Notebook\n",
    "\n",
    "*Course: Tools for Data Science*"
   ]
  },
  {
   "cell_type": "markdown",
   "id": "26c997d6",
   "metadata": {},
   "source": [
    "\n",
    "## Introduction\n",
    "This notebook fulfills the final project requirements by demonstrating basic Markdown and Python capabilities used in data science workflows. \n",
    "You will find sections for languages, libraries, tools, simple arithmetic, and small utility code snippets.\n"
   ]
  },
  {
   "cell_type": "markdown",
   "id": "be6abe02",
   "metadata": {},
   "source": [
    "\n",
    "## Data Science Languages\n",
    "- Python  \n",
    "- R  \n",
    "- SQL  \n",
    "- Julia  \n",
    "- Scala\n"
   ]
  },
  {
   "cell_type": "markdown",
   "id": "ec251d64",
   "metadata": {},
   "source": [
    "\n",
    "## Common Data Science Libraries\n",
    "- **NumPy** – n‑dimensional arrays and fast math  \n",
    "- **pandas** – tabular data frames and I/O  \n",
    "- **Matplotlib** / **Seaborn** – plotting and visualization  \n",
    "- **scikit‑learn** – ML models and preprocessing  \n",
    "- **TensorFlow** / **PyTorch** – deep learning  \n",
    "- **Spark MLlib** – distributed ML on big data\n"
   ]
  },
  {
   "cell_type": "markdown",
   "id": "7ea77c33",
   "metadata": {},
   "source": [
    "\n",
    "## Data Science Tools\n",
    "| Category | Tool | Notes |\n",
    "|---|---|---|\n",
    "| Notebook | JupyterLab | Interactive coding & docs |\n",
    "| IDE | VS Code | Extensions, debugging |\n",
    "| IDE | RStudio | R-centric data science |\n",
    "| Compute | Apache Spark | Distributed processing |\n",
    "| DB | MySQL | Relational database |\n",
    "| DB | PostgreSQL | Advanced SQL features |\n",
    "| BI | Tableau | Visual analytics |\n",
    "| BI | Power BI | Dashboards & reports |\n"
   ]
  },
  {
   "cell_type": "markdown",
   "id": "5adfedbb",
   "metadata": {},
   "source": [
    "\n",
    "## Simple Arithmetic Examples\n",
    "Below are examples of **multiplication** and **addition**, and a small **unit conversion** from minutes to hours.\n"
   ]
  },
  {
   "cell_type": "code",
   "execution_count": null,
   "id": "0e1a024f",
   "metadata": {},
   "outputs": [],
   "source": [
    "\n",
    "# Exercise 8: Multiply and add numbers\n",
    "a = 3\n",
    "b = 4\n",
    "c = 5\n",
    "result = a * b + c  # (3 * 4) + 5 = 17\n",
    "print(\"a * b + c =\", result)\n",
    "result2 = (7 * 8) + 9\n",
    "print(\"(7 * 8) + 9 =\", result2)\n"
   ]
  },
  {
   "cell_type": "code",
   "execution_count": null,
   "id": "bb3d687b",
   "metadata": {},
   "outputs": [],
   "source": [
    "\n",
    "# Exercise 9: Convert minutes to hours\n",
    "def minutes_to_hours(mins: int) -> float:\n",
    "    \"\"\"Return hours as a float given minutes.\"\"\"\n",
    "    return mins / 60\n",
    "\n",
    "test_values = [42, 90, 135, 200]\n",
    "for m in test_values:\n",
    "    h = minutes_to_hours(m)\n",
    "    whole = m // 60\n",
    "    rem = m % 60\n",
    "    print(f\"{m} minutes = {h:.2f} hours (i.e., {whole} hour(s) and {rem} minute(s))\")\n"
   ]
  },
  {
   "cell_type": "markdown",
   "id": "920e2795",
   "metadata": {},
   "source": [
    "\n",
    "## Objectives\n",
    "- Create multiple **Markdown** cells with lists and tables  \n",
    "- Write and run basic **Python** code cells  \n",
    "- Demonstrate **unit conversion** and simple arithmetic  \n",
    "- Prepare a notebook that can be **shared publicly** via GitHub  \n",
    "- Capture **screenshots** of the executed results for peer review\n"
   ]
  },
  {
   "cell_type": "markdown",
   "id": "1f89a08c",
   "metadata": {},
   "source": [
    "\n",
    "## Author\n",
    "**Nguyễn Minh Trí (Datto)**\n"
   ]
  },
  {
   "cell_type": "markdown",
   "id": "39e4ac64",
   "metadata": {},
   "source": [
    "\n",
    "## Share via GitHub\n",
    "1. Create a public GitHub repository (or use an existing one).  \n",
    "2. Upload this notebook file (`final_project_data_science.ipynb`).  \n",
    "3. Copy the **public URL** of the notebook and paste it here:\n",
    "\n",
    "\n",
    "**GitHub Link:** *Add your public link here*  \n",
    "\n",
    "_Last updated: 2025-10-05_\n"
   ]
  },
  {
   "cell_type": "markdown",
   "id": "fbb377e8",
   "metadata": {},
   "source": [
    "\n",
    "## Screenshot Reminder\n",
    "After running all cells, take a screenshot of the **first page of the notebook** (and others as needed) showing the rendered outputs.  \n",
    "Save as **.png** or **.jpg** and submit per the peer‑review instructions.\n"
   ]
  },
  {
   "cell_type": "markdown",
   "id": "138a6ace",
   "metadata": {},
   "source": [
    "\n",
    "### Helpful: Markdown Cheatsheet\n",
    "Use headings (`#` .. `######`), **bold**, *italics*, lists (`-`, `1.`), code fences (```) and tables (`|` delimiters).  \n",
    "For more practice, try adding links, images, and inline code like `print(\"hello\")`.\n"
   ]
  }
 ],
 "metadata": {
  "language_info": {
   "name": "python"
  }
 },
 "nbformat": 4,
 "nbformat_minor": 5
}
